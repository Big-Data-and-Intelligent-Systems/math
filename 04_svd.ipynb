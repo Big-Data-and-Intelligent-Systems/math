{
 "cells": [
  {
   "cell_type": "code",
   "execution_count": 1,
   "id": "25c03985",
   "metadata": {},
   "outputs": [],
   "source": [
    "import numpy as np\n",
    "import matplotlib.pyplot as plt"
   ]
  },
  {
   "cell_type": "code",
   "execution_count": 2,
   "id": "f3171626",
   "metadata": {},
   "outputs": [
    {
     "data": {
      "text/plain": [
       "array([[ 3., -1.],\n",
       "       [ 1.,  3.],\n",
       "       [ 1.,  1.]])"
      ]
     },
     "execution_count": 2,
     "metadata": {},
     "output_type": "execute_result"
    }
   ],
   "source": [
    "A = np.array([\n",
    "    [3, -1],\n",
    "    [1, 3],\n",
    "    [1, 1]\n",
    "], dtype=float)\n",
    "A"
   ]
  },
  {
   "cell_type": "markdown",
   "id": "7f275ffa",
   "metadata": {},
   "source": [
    "### Найти сингулярное разложение матрицы. Проверить, что А=UΣVᵀ."
   ]
  },
  {
   "cell_type": "markdown",
   "id": "0f73287a",
   "metadata": {},
   "source": [
    "![](/home/zorinep/big_data_magistracy/math/asserts/svd_notes.png)"
   ]
  },
  {
   "cell_type": "code",
   "execution_count": 25,
   "id": "485c9e7c",
   "metadata": {},
   "outputs": [],
   "source": [
    "U, s, Vt = np.linalg.svd(A, full_matrices=False)  \n",
    "Sigma = np.diag(s)"
   ]
  },
  {
   "cell_type": "code",
   "execution_count": 26,
   "id": "d69ce39f",
   "metadata": {},
   "outputs": [
    {
     "data": {
      "text/plain": [
       "array([[-4.08248290e-01,  8.94427191e-01],\n",
       "       [-8.16496581e-01, -4.47213595e-01],\n",
       "       [-4.08248290e-01, -2.06937879e-16]])"
      ]
     },
     "execution_count": 26,
     "metadata": {},
     "output_type": "execute_result"
    }
   ],
   "source": [
    "# матрица левых сингулярных векторов\n",
    "U"
   ]
  },
  {
   "cell_type": "code",
   "execution_count": 27,
   "id": "510df088",
   "metadata": {},
   "outputs": [
    {
     "data": {
      "text/plain": [
       "array([3.46410162, 3.16227766])"
      ]
     },
     "execution_count": 27,
     "metadata": {},
     "output_type": "execute_result"
    }
   ],
   "source": [
    "# сингулярные числа \n",
    "s"
   ]
  },
  {
   "cell_type": "code",
   "execution_count": 28,
   "id": "a32f73e4",
   "metadata": {},
   "outputs": [
    {
     "data": {
      "text/plain": [
       "array([[3.46410162, 0.        ],\n",
       "       [0.        , 3.16227766]])"
      ]
     },
     "execution_count": 28,
     "metadata": {},
     "output_type": "execute_result"
    }
   ],
   "source": [
    "# диагональная матрица\n",
    "Sigma"
   ]
  },
  {
   "cell_type": "code",
   "execution_count": 29,
   "id": "50a1ed26",
   "metadata": {},
   "outputs": [
    {
     "data": {
      "text/plain": [
       "array([[-0.70710678, -0.70710678],\n",
       "       [ 0.70710678, -0.70710678]])"
      ]
     },
     "execution_count": 29,
     "metadata": {},
     "output_type": "execute_result"
    }
   ],
   "source": [
    "# правые сингулярные векторы\n",
    "Vt"
   ]
  },
  {
   "cell_type": "markdown",
   "id": "9cfac48d",
   "metadata": {},
   "source": [
    "![](/home/zorinep/big_data_magistracy/math/asserts/svd.png)"
   ]
  },
  {
   "cell_type": "code",
   "execution_count": 12,
   "id": "b9d1a365",
   "metadata": {},
   "outputs": [
    {
     "data": {
      "text/plain": [
       "array([[ 3., -1.],\n",
       "       [ 1.,  3.],\n",
       "       [ 1.,  1.]])"
      ]
     },
     "execution_count": 12,
     "metadata": {},
     "output_type": "execute_result"
    }
   ],
   "source": [
    "U @ Sigma @ Vt"
   ]
  },
  {
   "cell_type": "markdown",
   "id": "1d199060",
   "metadata": {},
   "source": [
    "Норма разности ||A - UΣV^T|| "
   ]
  },
  {
   "cell_type": "code",
   "execution_count": 19,
   "id": "6c1b82a4",
   "metadata": {},
   "outputs": [
    {
     "data": {
      "text/plain": [
       "np.float64(1.355199909595506e-15)"
      ]
     },
     "execution_count": 19,
     "metadata": {},
     "output_type": "execute_result"
    }
   ],
   "source": [
    "reconstruction_error = np.linalg.norm(A - A_reconstructed) \n",
    "reconstruction_error"
   ]
  },
  {
   "cell_type": "code",
   "execution_count": 52,
   "id": "8ef3d385",
   "metadata": {},
   "outputs": [
    {
     "data": {
      "text/plain": [
       "True"
      ]
     },
     "execution_count": 52,
     "metadata": {},
     "output_type": "execute_result"
    }
   ],
   "source": [
    "0.0000000000000014 > 1.355199909595506e-15"
   ]
  },
  {
   "cell_type": "code",
   "execution_count": 21,
   "id": "dd82bdc4",
   "metadata": {},
   "outputs": [
    {
     "data": {
      "text/plain": [
       "np.int64(2)"
      ]
     },
     "execution_count": 21,
     "metadata": {},
     "output_type": "execute_result"
    }
   ],
   "source": [
    "rank = np.linalg.matrix_rank(A)\n",
    "rank"
   ]
  },
  {
   "cell_type": "markdown",
   "id": "cb4954bf",
   "metadata": {},
   "source": [
    "### Придумать вектор b, и решить систему Ax=b с помощью сингулярного разложения матрицы А"
   ]
  },
  {
   "cell_type": "code",
   "execution_count": 24,
   "id": "2ddd4202",
   "metadata": {},
   "outputs": [],
   "source": [
    "b = np.array([1.0, 2.0, 3.0])"
   ]
  },
  {
   "cell_type": "code",
   "execution_count": null,
   "id": "022397a6",
   "metadata": {},
   "outputs": [],
   "source": [
    "U, s, Vt = np.linalg.svd(A, full_matrices=False)"
   ]
  },
  {
   "cell_type": "code",
   "execution_count": 53,
   "id": "c7389108",
   "metadata": {},
   "outputs": [],
   "source": [
    "Sigma = np.diag(s)"
   ]
  },
  {
   "cell_type": "code",
   "execution_count": 54,
   "id": "d2a142e8",
   "metadata": {},
   "outputs": [],
   "source": [
    "Sigma_plus = np.diag([1/si for si in s])  # псевдообратная\n",
    "A_pinv = Vt.T @ Sigma_plus @ U.T\n",
    "x = A_pinv @ np.array([1., 2., 3.])"
   ]
  },
  {
   "cell_type": "code",
   "execution_count": 55,
   "id": "c4ef45c0",
   "metadata": {},
   "outputs": [
    {
     "name": "stdout",
     "output_type": "stream",
     "text": [
      "x = [0.66666667 0.66666667]\n"
     ]
    }
   ],
   "source": [
    "print(\"x =\", x)"
   ]
  },
  {
   "cell_type": "code",
   "execution_count": 56,
   "id": "1cd7524c",
   "metadata": {},
   "outputs": [
    {
     "name": "stdout",
     "output_type": "stream",
     "text": [
      "Невязка r = A x - b = [ 0.33333333  0.66666667 -1.66666667]\n"
     ]
    }
   ],
   "source": [
    "print(\"Невязка r = A x - b =\", A @ x - np.array([1.,2.,3.]))"
   ]
  },
  {
   "cell_type": "code",
   "execution_count": 57,
   "id": "ab6cb5b8",
   "metadata": {},
   "outputs": [
    {
     "name": "stdout",
     "output_type": "stream",
     "text": [
      "||r|| = 1.8257418583505538\n"
     ]
    }
   ],
   "source": [
    "print(\"||r|| =\", np.linalg.norm(A @ x - np.array([1.,2.,3.])))"
   ]
  },
  {
   "cell_type": "markdown",
   "id": "71badcee",
   "metadata": {},
   "source": [
    "### Выводы\n",
    "матрица 𝐴 имеет ранг 2 (столбцов 2), система переопределённая — точного решения для выбранного b нет \n",
    "найдено наилучшее в смысле наименьших квадратов псевдорешение."
   ]
  },
  {
   "cell_type": "markdown",
   "id": "33d88d4e",
   "metadata": {},
   "source": [
    "Берём 𝑏 из столбцового пространства 𝐴, тогда невязка будет ноль."
   ]
  },
  {
   "cell_type": "markdown",
   "id": "ab72b0f2",
   "metadata": {},
   "source": [
    "$$ \n",
    "b = A \\begin{bmatrix} 1 \\\\ 2 \\end{bmatrix}\n",
    "  = \\begin{bmatrix}\n",
    "      3 \\cdot 1 - 1 \\cdot 2 \\\\\n",
    "      1 \\cdot 1 + 3 \\cdot 2 \\\\\n",
    "      1 \\cdot 1 + 1 \\cdot 2\n",
    "    \\end{bmatrix}\n",
    "  = \\begin{bmatrix} 1 \\\\ 7 \\\\ 3 \\end{bmatrix}.\n",
    "$$"
   ]
  },
  {
   "cell_type": "code",
   "execution_count": 72,
   "id": "b1a3ecc8",
   "metadata": {},
   "outputs": [],
   "source": [
    "b = np.array([1., 7., 3.])  # b = A @ [1,2]"
   ]
  },
  {
   "cell_type": "code",
   "execution_count": 73,
   "id": "38c33379",
   "metadata": {},
   "outputs": [],
   "source": [
    "U, s, Vt = np.linalg.svd(A, full_matrices=False)\n",
    "Sigma_plus = np.diag(1.0 / s)           \n",
    "A_pinv = Vt.T @ Sigma_plus @ U.T\n",
    "\n",
    "x = A_pinv @ b"
   ]
  },
  {
   "cell_type": "code",
   "execution_count": 74,
   "id": "3478294a",
   "metadata": {},
   "outputs": [
    {
     "name": "stdout",
     "output_type": "stream",
     "text": [
      "x = [1. 2.]\n"
     ]
    }
   ],
   "source": [
    "print(\"x =\", x)"
   ]
  },
  {
   "cell_type": "code",
   "execution_count": 77,
   "id": "6a9cae17",
   "metadata": {},
   "outputs": [
    {
     "name": "stdout",
     "output_type": "stream",
     "text": [
      "Невязка r = A @ x - b = [-2.22044605e-16 -1.77635684e-15 -8.88178420e-16]\n"
     ]
    }
   ],
   "source": [
    "print(\"Невязка r = A @ x - b =\", A @ x - b)"
   ]
  },
  {
   "cell_type": "code",
   "execution_count": 76,
   "id": "d6bd86f4",
   "metadata": {},
   "outputs": [
    {
     "name": "stdout",
     "output_type": "stream",
     "text": [
      "||r|| = 1.9984014443252818e-15\n"
     ]
    }
   ],
   "source": [
    "print(\"||r|| =\", np.linalg.norm(A @ x - b))"
   ]
  }
 ],
 "metadata": {
  "kernelspec": {
   "display_name": ".venv",
   "language": "python",
   "name": "python3"
  },
  "language_info": {
   "codemirror_mode": {
    "name": "ipython",
    "version": 3
   },
   "file_extension": ".py",
   "mimetype": "text/x-python",
   "name": "python",
   "nbconvert_exporter": "python",
   "pygments_lexer": "ipython3",
   "version": "3.12.3"
  }
 },
 "nbformat": 4,
 "nbformat_minor": 5
}
